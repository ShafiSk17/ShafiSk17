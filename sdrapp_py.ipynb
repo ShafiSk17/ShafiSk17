{
  "cells": [
    {
      "cell_type": "markdown",
      "metadata": {
        "id": "view-in-github",
        "colab_type": "text"
      },
      "source": [
        "<a href=\"https://colab.research.google.com/github/ShafiSk17/ShafiSk17/blob/main/sdrapp_py.ipynb\" target=\"_parent\"><img src=\"https://colab.research.google.com/assets/colab-badge.svg\" alt=\"Open In Colab\"/></a>"
      ]
    },
    {
      "cell_type": "code",
      "source": [
        "!pip install lyzr"
      ],
      "metadata": {
        "id": "r0f9h8qbmJYm",
        "colab": {
          "base_uri": "https://localhost:8080/"
        },
        "outputId": "887b4979-0ea0-418e-88e8-1e71436b3cfb"
      },
      "execution_count": 19,
      "outputs": [
        {
          "output_type": "stream",
          "name": "stdout",
          "text": [
            "Requirement already satisfied: lyzr in /usr/local/lib/python3.10/dist-packages (0.1.40)\n",
            "Requirement already satisfied: asyncio in /usr/local/lib/python3.10/dist-packages (from lyzr) (3.4.3)\n",
            "Requirement already satisfied: nest-asyncio in /usr/local/lib/python3.10/dist-packages (from lyzr) (1.6.0)\n",
            "Requirement already satisfied: openai==1.3.4 in /usr/local/lib/python3.10/dist-packages (from lyzr) (1.3.4)\n",
            "Requirement already satisfied: litellm==1.2.0 in /usr/local/lib/python3.10/dist-packages (from lyzr) (1.2.0)\n",
            "Requirement already satisfied: llama-index==0.9.4 in /usr/local/lib/python3.10/dist-packages (from lyzr) (0.9.4)\n",
            "Requirement already satisfied: langchain==0.0.339 in /usr/local/lib/python3.10/dist-packages (from lyzr) (0.0.339)\n",
            "Requirement already satisfied: python-dotenv>=1.0.0 in /usr/local/lib/python3.10/dist-packages (from lyzr) (1.0.1)\n",
            "Requirement already satisfied: beautifulsoup4==4.12.2 in /usr/local/lib/python3.10/dist-packages (from lyzr) (4.12.2)\n",
            "Requirement already satisfied: pandas==2.0.2 in /usr/local/lib/python3.10/dist-packages (from lyzr) (2.0.2)\n",
            "Requirement already satisfied: weaviate-client==3.25.3 in /usr/local/lib/python3.10/dist-packages (from lyzr) (3.25.3)\n",
            "Requirement already satisfied: llmsherpa in /usr/local/lib/python3.10/dist-packages (from lyzr) (0.1.4)\n",
            "Requirement already satisfied: soupsieve>1.2 in /usr/local/lib/python3.10/dist-packages (from beautifulsoup4==4.12.2->lyzr) (2.5)\n",
            "Requirement already satisfied: PyYAML>=5.3 in /usr/local/lib/python3.10/dist-packages (from langchain==0.0.339->lyzr) (6.0.1)\n",
            "Requirement already satisfied: SQLAlchemy<3,>=1.4 in /usr/local/lib/python3.10/dist-packages (from langchain==0.0.339->lyzr) (2.0.31)\n",
            "Requirement already satisfied: aiohttp<4.0.0,>=3.8.3 in /usr/local/lib/python3.10/dist-packages (from langchain==0.0.339->lyzr) (3.9.5)\n",
            "Requirement already satisfied: anyio<4.0 in /usr/local/lib/python3.10/dist-packages (from langchain==0.0.339->lyzr) (3.7.1)\n",
            "Requirement already satisfied: async-timeout<5.0.0,>=4.0.0 in /usr/local/lib/python3.10/dist-packages (from langchain==0.0.339->lyzr) (4.0.3)\n",
            "Requirement already satisfied: dataclasses-json<0.7,>=0.5.7 in /usr/local/lib/python3.10/dist-packages (from langchain==0.0.339->lyzr) (0.5.14)\n",
            "Requirement already satisfied: jsonpatch<2.0,>=1.33 in /usr/local/lib/python3.10/dist-packages (from langchain==0.0.339->lyzr) (1.33)\n",
            "Requirement already satisfied: langsmith<0.1.0,>=0.0.63 in /usr/local/lib/python3.10/dist-packages (from langchain==0.0.339->lyzr) (0.0.92)\n",
            "Requirement already satisfied: numpy<2,>=1 in /usr/local/lib/python3.10/dist-packages (from langchain==0.0.339->lyzr) (1.25.2)\n",
            "Requirement already satisfied: pydantic<3,>=1 in /usr/local/lib/python3.10/dist-packages (from langchain==0.0.339->lyzr) (2.7.4)\n",
            "Requirement already satisfied: requests<3,>=2 in /usr/local/lib/python3.10/dist-packages (from langchain==0.0.339->lyzr) (2.31.0)\n",
            "Requirement already satisfied: tenacity<9.0.0,>=8.1.0 in /usr/local/lib/python3.10/dist-packages (from langchain==0.0.339->lyzr) (8.4.2)\n",
            "Requirement already satisfied: appdirs<2.0.0,>=1.4.4 in /usr/local/lib/python3.10/dist-packages (from litellm==1.2.0->lyzr) (1.4.4)\n",
            "Requirement already satisfied: certifi<2024.0.0,>=2023.7.22 in /usr/local/lib/python3.10/dist-packages (from litellm==1.2.0->lyzr) (2023.11.17)\n",
            "Requirement already satisfied: click in /usr/local/lib/python3.10/dist-packages (from litellm==1.2.0->lyzr) (8.1.7)\n",
            "Requirement already satisfied: importlib-metadata>=6.8.0 in /usr/local/lib/python3.10/dist-packages (from litellm==1.2.0->lyzr) (8.0.0)\n",
            "Requirement already satisfied: jinja2<4.0.0,>=3.1.2 in /usr/local/lib/python3.10/dist-packages (from litellm==1.2.0->lyzr) (3.1.4)\n",
            "Requirement already satisfied: tiktoken>=0.4.0 in /usr/local/lib/python3.10/dist-packages (from litellm==1.2.0->lyzr) (0.7.0)\n",
            "Requirement already satisfied: tokenizers in /usr/local/lib/python3.10/dist-packages (from litellm==1.2.0->lyzr) (0.19.1)\n",
            "Requirement already satisfied: aiostream<0.6.0,>=0.5.2 in /usr/local/lib/python3.10/dist-packages (from llama-index==0.9.4->lyzr) (0.5.2)\n",
            "Requirement already satisfied: deprecated>=1.2.9.3 in /usr/local/lib/python3.10/dist-packages (from llama-index==0.9.4->lyzr) (1.2.14)\n",
            "Requirement already satisfied: fsspec>=2023.5.0 in /usr/local/lib/python3.10/dist-packages (from llama-index==0.9.4->lyzr) (2023.6.0)\n",
            "Requirement already satisfied: httpx in /usr/local/lib/python3.10/dist-packages (from llama-index==0.9.4->lyzr) (0.27.0)\n",
            "Requirement already satisfied: nltk<4.0.0,>=3.8.1 in /usr/local/lib/python3.10/dist-packages (from llama-index==0.9.4->lyzr) (3.8.1)\n",
            "Requirement already satisfied: typing-extensions>=4.5.0 in /usr/local/lib/python3.10/dist-packages (from llama-index==0.9.4->lyzr) (4.12.2)\n",
            "Requirement already satisfied: typing-inspect>=0.8.0 in /usr/local/lib/python3.10/dist-packages (from llama-index==0.9.4->lyzr) (0.9.0)\n",
            "Requirement already satisfied: urllib3<2 in /usr/local/lib/python3.10/dist-packages (from llama-index==0.9.4->lyzr) (1.26.19)\n",
            "Requirement already satisfied: distro<2,>=1.7.0 in /usr/lib/python3/dist-packages (from openai==1.3.4->lyzr) (1.7.0)\n",
            "Requirement already satisfied: tqdm>4 in /usr/local/lib/python3.10/dist-packages (from openai==1.3.4->lyzr) (4.66.4)\n",
            "Requirement already satisfied: python-dateutil>=2.8.2 in /usr/local/lib/python3.10/dist-packages (from pandas==2.0.2->lyzr) (2.8.2)\n",
            "Requirement already satisfied: pytz>=2020.1 in /usr/local/lib/python3.10/dist-packages (from pandas==2.0.2->lyzr) (2023.4)\n",
            "Requirement already satisfied: tzdata>=2022.1 in /usr/local/lib/python3.10/dist-packages (from pandas==2.0.2->lyzr) (2024.1)\n",
            "Requirement already satisfied: validators<1.0.0,>=0.21.2 in /usr/local/lib/python3.10/dist-packages (from weaviate-client==3.25.3->lyzr) (0.29.0)\n",
            "Requirement already satisfied: authlib<2.0.0,>=1.2.1 in /usr/local/lib/python3.10/dist-packages (from weaviate-client==3.25.3->lyzr) (1.3.1)\n",
            "Requirement already satisfied: aiosignal>=1.1.2 in /usr/local/lib/python3.10/dist-packages (from aiohttp<4.0.0,>=3.8.3->langchain==0.0.339->lyzr) (1.3.1)\n",
            "Requirement already satisfied: attrs>=17.3.0 in /usr/local/lib/python3.10/dist-packages (from aiohttp<4.0.0,>=3.8.3->langchain==0.0.339->lyzr) (23.2.0)\n",
            "Requirement already satisfied: frozenlist>=1.1.1 in /usr/local/lib/python3.10/dist-packages (from aiohttp<4.0.0,>=3.8.3->langchain==0.0.339->lyzr) (1.4.1)\n",
            "Requirement already satisfied: multidict<7.0,>=4.5 in /usr/local/lib/python3.10/dist-packages (from aiohttp<4.0.0,>=3.8.3->langchain==0.0.339->lyzr) (6.0.5)\n",
            "Requirement already satisfied: yarl<2.0,>=1.0 in /usr/local/lib/python3.10/dist-packages (from aiohttp<4.0.0,>=3.8.3->langchain==0.0.339->lyzr) (1.9.4)\n",
            "Requirement already satisfied: idna>=2.8 in /usr/local/lib/python3.10/dist-packages (from anyio<4.0->langchain==0.0.339->lyzr) (3.7)\n",
            "Requirement already satisfied: sniffio>=1.1 in /usr/local/lib/python3.10/dist-packages (from anyio<4.0->langchain==0.0.339->lyzr) (1.3.1)\n",
            "Requirement already satisfied: exceptiongroup in /usr/local/lib/python3.10/dist-packages (from anyio<4.0->langchain==0.0.339->lyzr) (1.2.1)\n",
            "Requirement already satisfied: cryptography in /usr/local/lib/python3.10/dist-packages (from authlib<2.0.0,>=1.2.1->weaviate-client==3.25.3->lyzr) (42.0.8)\n",
            "Requirement already satisfied: marshmallow<4.0.0,>=3.18.0 in /usr/local/lib/python3.10/dist-packages (from dataclasses-json<0.7,>=0.5.7->langchain==0.0.339->lyzr) (3.21.3)\n",
            "Requirement already satisfied: wrapt<2,>=1.10 in /usr/local/lib/python3.10/dist-packages (from deprecated>=1.2.9.3->llama-index==0.9.4->lyzr) (1.14.1)\n",
            "Requirement already satisfied: httpcore==1.* in /usr/local/lib/python3.10/dist-packages (from httpx->llama-index==0.9.4->lyzr) (1.0.5)\n",
            "Requirement already satisfied: h11<0.15,>=0.13 in /usr/local/lib/python3.10/dist-packages (from httpcore==1.*->httpx->llama-index==0.9.4->lyzr) (0.14.0)\n",
            "Requirement already satisfied: zipp>=0.5 in /usr/local/lib/python3.10/dist-packages (from importlib-metadata>=6.8.0->litellm==1.2.0->lyzr) (3.19.2)\n",
            "Requirement already satisfied: MarkupSafe>=2.0 in /usr/local/lib/python3.10/dist-packages (from jinja2<4.0.0,>=3.1.2->litellm==1.2.0->lyzr) (2.1.5)\n",
            "Requirement already satisfied: jsonpointer>=1.9 in /usr/local/lib/python3.10/dist-packages (from jsonpatch<2.0,>=1.33->langchain==0.0.339->lyzr) (3.0.0)\n",
            "Requirement already satisfied: joblib in /usr/local/lib/python3.10/dist-packages (from nltk<4.0.0,>=3.8.1->llama-index==0.9.4->lyzr) (1.4.2)\n",
            "Requirement already satisfied: regex>=2021.8.3 in /usr/local/lib/python3.10/dist-packages (from nltk<4.0.0,>=3.8.1->llama-index==0.9.4->lyzr) (2024.5.15)\n",
            "Requirement already satisfied: annotated-types>=0.4.0 in /usr/local/lib/python3.10/dist-packages (from pydantic<3,>=1->langchain==0.0.339->lyzr) (0.7.0)\n",
            "Requirement already satisfied: pydantic-core==2.18.4 in /usr/local/lib/python3.10/dist-packages (from pydantic<3,>=1->langchain==0.0.339->lyzr) (2.18.4)\n",
            "Requirement already satisfied: six>=1.5 in /usr/local/lib/python3.10/dist-packages (from python-dateutil>=2.8.2->pandas==2.0.2->lyzr) (1.16.0)\n",
            "Requirement already satisfied: charset-normalizer<4,>=2 in /usr/local/lib/python3.10/dist-packages (from requests<3,>=2->langchain==0.0.339->lyzr) (3.3.2)\n",
            "Requirement already satisfied: greenlet!=0.4.17 in /usr/local/lib/python3.10/dist-packages (from SQLAlchemy<3,>=1.4->langchain==0.0.339->lyzr) (3.0.3)\n",
            "Requirement already satisfied: mypy-extensions>=0.3.0 in /usr/local/lib/python3.10/dist-packages (from typing-inspect>=0.8.0->llama-index==0.9.4->lyzr) (1.0.0)\n",
            "\u001b[33mWARNING: pandas 2.0.2 does not provide the extra 'jinja2'\u001b[0m\u001b[33m\n",
            "\u001b[0mRequirement already satisfied: huggingface-hub<1.0,>=0.16.4 in /usr/local/lib/python3.10/dist-packages (from tokenizers->litellm==1.2.0->lyzr) (0.23.4)\n",
            "Requirement already satisfied: filelock in /usr/local/lib/python3.10/dist-packages (from huggingface-hub<1.0,>=0.16.4->tokenizers->litellm==1.2.0->lyzr) (3.15.4)\n",
            "Requirement already satisfied: packaging>=20.9 in /usr/local/lib/python3.10/dist-packages (from huggingface-hub<1.0,>=0.16.4->tokenizers->litellm==1.2.0->lyzr) (24.1)\n",
            "Requirement already satisfied: cffi>=1.12 in /usr/local/lib/python3.10/dist-packages (from cryptography->authlib<2.0.0,>=1.2.1->weaviate-client==3.25.3->lyzr) (1.16.0)\n",
            "Requirement already satisfied: pycparser in /usr/local/lib/python3.10/dist-packages (from cffi>=1.12->cryptography->authlib<2.0.0,>=1.2.1->weaviate-client==3.25.3->lyzr) (2.22)\n"
          ]
        }
      ]
    },
    {
      "cell_type": "code",
      "source": [
        "!pip install streamlit --upgrade"
      ],
      "metadata": {
        "id": "CX246lh2ma8I",
        "colab": {
          "base_uri": "https://localhost:8080/"
        },
        "outputId": "4b46cfce-7df2-4836-eb79-5b5b2ac4c8ca"
      },
      "execution_count": 20,
      "outputs": [
        {
          "output_type": "stream",
          "name": "stdout",
          "text": [
            "Requirement already satisfied: streamlit in /usr/local/lib/python3.10/dist-packages (1.36.0)\n",
            "Requirement already satisfied: altair<6,>=4.0 in /usr/local/lib/python3.10/dist-packages (from streamlit) (4.2.2)\n",
            "Requirement already satisfied: blinker<2,>=1.0.0 in /usr/lib/python3/dist-packages (from streamlit) (1.4)\n",
            "Requirement already satisfied: cachetools<6,>=4.0 in /usr/local/lib/python3.10/dist-packages (from streamlit) (5.3.3)\n",
            "Requirement already satisfied: click<9,>=7.0 in /usr/local/lib/python3.10/dist-packages (from streamlit) (8.1.7)\n",
            "Requirement already satisfied: numpy<3,>=1.20 in /usr/local/lib/python3.10/dist-packages (from streamlit) (1.25.2)\n",
            "Requirement already satisfied: packaging<25,>=20 in /usr/local/lib/python3.10/dist-packages (from streamlit) (24.1)\n",
            "Requirement already satisfied: pandas<3,>=1.3.0 in /usr/local/lib/python3.10/dist-packages (from streamlit) (2.0.2)\n",
            "Requirement already satisfied: pillow<11,>=7.1.0 in /usr/local/lib/python3.10/dist-packages (from streamlit) (9.4.0)\n",
            "Requirement already satisfied: protobuf<6,>=3.20 in /usr/local/lib/python3.10/dist-packages (from streamlit) (3.20.3)\n",
            "Requirement already satisfied: pyarrow>=7.0 in /usr/local/lib/python3.10/dist-packages (from streamlit) (14.0.2)\n",
            "Requirement already satisfied: requests<3,>=2.27 in /usr/local/lib/python3.10/dist-packages (from streamlit) (2.31.0)\n",
            "Requirement already satisfied: rich<14,>=10.14.0 in /usr/local/lib/python3.10/dist-packages (from streamlit) (13.7.1)\n",
            "Requirement already satisfied: tenacity<9,>=8.1.0 in /usr/local/lib/python3.10/dist-packages (from streamlit) (8.4.2)\n",
            "Requirement already satisfied: toml<2,>=0.10.1 in /usr/local/lib/python3.10/dist-packages (from streamlit) (0.10.2)\n",
            "Requirement already satisfied: typing-extensions<5,>=4.3.0 in /usr/local/lib/python3.10/dist-packages (from streamlit) (4.12.2)\n",
            "Requirement already satisfied: gitpython!=3.1.19,<4,>=3.0.7 in /usr/local/lib/python3.10/dist-packages (from streamlit) (3.1.43)\n",
            "Requirement already satisfied: pydeck<1,>=0.8.0b4 in /usr/local/lib/python3.10/dist-packages (from streamlit) (0.9.1)\n",
            "Requirement already satisfied: tornado<7,>=6.0.3 in /usr/local/lib/python3.10/dist-packages (from streamlit) (6.3.3)\n",
            "Requirement already satisfied: watchdog<5,>=2.1.5 in /usr/local/lib/python3.10/dist-packages (from streamlit) (4.0.1)\n",
            "Requirement already satisfied: entrypoints in /usr/local/lib/python3.10/dist-packages (from altair<6,>=4.0->streamlit) (0.4)\n",
            "Requirement already satisfied: jinja2 in /usr/local/lib/python3.10/dist-packages (from altair<6,>=4.0->streamlit) (3.1.4)\n",
            "Requirement already satisfied: jsonschema>=3.0 in /usr/local/lib/python3.10/dist-packages (from altair<6,>=4.0->streamlit) (4.19.2)\n",
            "Requirement already satisfied: toolz in /usr/local/lib/python3.10/dist-packages (from altair<6,>=4.0->streamlit) (0.12.1)\n",
            "Requirement already satisfied: gitdb<5,>=4.0.1 in /usr/local/lib/python3.10/dist-packages (from gitpython!=3.1.19,<4,>=3.0.7->streamlit) (4.0.11)\n",
            "Requirement already satisfied: python-dateutil>=2.8.2 in /usr/local/lib/python3.10/dist-packages (from pandas<3,>=1.3.0->streamlit) (2.8.2)\n",
            "Requirement already satisfied: pytz>=2020.1 in /usr/local/lib/python3.10/dist-packages (from pandas<3,>=1.3.0->streamlit) (2023.4)\n",
            "Requirement already satisfied: tzdata>=2022.1 in /usr/local/lib/python3.10/dist-packages (from pandas<3,>=1.3.0->streamlit) (2024.1)\n",
            "Requirement already satisfied: charset-normalizer<4,>=2 in /usr/local/lib/python3.10/dist-packages (from requests<3,>=2.27->streamlit) (3.3.2)\n",
            "Requirement already satisfied: idna<4,>=2.5 in /usr/local/lib/python3.10/dist-packages (from requests<3,>=2.27->streamlit) (3.7)\n",
            "Requirement already satisfied: urllib3<3,>=1.21.1 in /usr/local/lib/python3.10/dist-packages (from requests<3,>=2.27->streamlit) (1.26.19)\n",
            "Requirement already satisfied: certifi>=2017.4.17 in /usr/local/lib/python3.10/dist-packages (from requests<3,>=2.27->streamlit) (2023.11.17)\n",
            "Requirement already satisfied: markdown-it-py>=2.2.0 in /usr/local/lib/python3.10/dist-packages (from rich<14,>=10.14.0->streamlit) (3.0.0)\n",
            "Requirement already satisfied: pygments<3.0.0,>=2.13.0 in /usr/local/lib/python3.10/dist-packages (from rich<14,>=10.14.0->streamlit) (2.16.1)\n",
            "Requirement already satisfied: smmap<6,>=3.0.1 in /usr/local/lib/python3.10/dist-packages (from gitdb<5,>=4.0.1->gitpython!=3.1.19,<4,>=3.0.7->streamlit) (5.0.1)\n",
            "Requirement already satisfied: MarkupSafe>=2.0 in /usr/local/lib/python3.10/dist-packages (from jinja2->altair<6,>=4.0->streamlit) (2.1.5)\n",
            "Requirement already satisfied: attrs>=22.2.0 in /usr/local/lib/python3.10/dist-packages (from jsonschema>=3.0->altair<6,>=4.0->streamlit) (23.2.0)\n",
            "Requirement already satisfied: jsonschema-specifications>=2023.03.6 in /usr/local/lib/python3.10/dist-packages (from jsonschema>=3.0->altair<6,>=4.0->streamlit) (2023.12.1)\n",
            "Requirement already satisfied: referencing>=0.28.4 in /usr/local/lib/python3.10/dist-packages (from jsonschema>=3.0->altair<6,>=4.0->streamlit) (0.35.1)\n",
            "Requirement already satisfied: rpds-py>=0.7.1 in /usr/local/lib/python3.10/dist-packages (from jsonschema>=3.0->altair<6,>=4.0->streamlit) (0.18.1)\n",
            "Requirement already satisfied: mdurl~=0.1 in /usr/local/lib/python3.10/dist-packages (from markdown-it-py>=2.2.0->rich<14,>=10.14.0->streamlit) (0.1.2)\n",
            "Requirement already satisfied: six>=1.5 in /usr/local/lib/python3.10/dist-packages (from python-dateutil>=2.8.2->pandas<3,>=1.3.0->streamlit) (1.16.0)\n"
          ]
        }
      ]
    },
    {
      "cell_type": "code",
      "source": [
        "pip install playwright && playwright install"
      ],
      "metadata": {
        "id": "jmo_GqPHml23",
        "colab": {
          "base_uri": "https://localhost:8080/"
        },
        "outputId": "da723fee-f1d4-4ee3-c665-466cedad169e"
      },
      "execution_count": 21,
      "outputs": [
        {
          "output_type": "stream",
          "name": "stdout",
          "text": [
            "Requirement already satisfied: playwright in /usr/local/lib/python3.10/dist-packages (1.44.0)\n",
            "Requirement already satisfied: greenlet==3.0.3 in /usr/local/lib/python3.10/dist-packages (from playwright) (3.0.3)\n",
            "Requirement already satisfied: pyee==11.1.0 in /usr/local/lib/python3.10/dist-packages (from playwright) (11.1.0)\n",
            "Requirement already satisfied: typing-extensions in /usr/local/lib/python3.10/dist-packages (from pyee==11.1.0->playwright) (4.12.2)\n",
            "Playwright Host validation warning: \n",
            "╔══════════════════════════════════════════════════════╗\n",
            "║ Host system is missing dependencies to run browsers. ║\n",
            "║ Missing libraries:                                   ║\n",
            "║     libwoff2dec.so.1.0.2                             ║\n",
            "║     libgstgl-1.0.so.0                                ║\n",
            "║     libgstcodecparsers-1.0.so.0                      ║\n",
            "║     libharfbuzz-icu.so.0                             ║\n",
            "║     libenchant-2.so.2                                ║\n",
            "║     libsecret-1.so.0                                 ║\n",
            "║     libhyphen.so.0                                   ║\n",
            "║     libmanette-0.2.so.0                              ║\n",
            "╚══════════════════════════════════════════════════════╝\n",
            "    at validateDependenciesLinux (/usr/local/lib/python3.10/dist-packages/playwright/driver/package/lib/server/registry/dependencies.js:216:9)\n",
            "\u001b[90m    at process.processTicksAndRejections (node:internal/process/task_queues:95:5)\u001b[39m\n",
            "    at async Registry._validateHostRequirements (/usr/local/lib/python3.10/dist-packages/playwright/driver/package/lib/server/registry/index.js:603:43)\n",
            "    at async Registry._validateHostRequirementsForExecutableIfNeeded (/usr/local/lib/python3.10/dist-packages/playwright/driver/package/lib/server/registry/index.js:701:7)\n",
            "    at async Registry.validateHostRequirementsForExecutablesIfNeeded (/usr/local/lib/python3.10/dist-packages/playwright/driver/package/lib/server/registry/index.js:690:43)\n",
            "    at async t.<anonymous> (/usr/local/lib/python3.10/dist-packages/playwright/driver/package/lib/cli/program.js:119:7)\n"
          ]
        }
      ]
    },
    {
      "cell_type": "code",
      "source": [
        "!pip install aenum"
      ],
      "metadata": {
        "id": "6Y1Fz6ajnApx",
        "colab": {
          "base_uri": "https://localhost:8080/"
        },
        "outputId": "d2c70d3a-4f15-49dd-f39e-34694102b689"
      },
      "execution_count": 22,
      "outputs": [
        {
          "output_type": "stream",
          "name": "stdout",
          "text": [
            "Requirement already satisfied: aenum in /usr/local/lib/python3.10/dist-packages (3.1.15)\n"
          ]
        }
      ]
    },
    {
      "cell_type": "code",
      "source": [
        "!%%writefile sdrapp.py\n",
        "\n",
        "import os\n",
        "import csv\n",
        "import aenum\n",
        "from lyzr import ChatBot\n",
        "import smtplib\n",
        "from email.mime.multipart import MIMEMultipart\n",
        "from email.mime.text import MIMEText\n",
        "import imaplib\n",
        "import email\n",
        "import time\n",
        "import nest_asyncio\n",
        "import streamlit as st\n",
        "\n",
        "nest_asyncio.apply()\n",
        "\n",
        "def extract_info_from_csv(csv_file):\n",
        "    companies_info = []\n",
        "    file = csv_file.read().decode('utf-8').splitlines()\n",
        "    reader = csv.DictReader(file)\n",
        "    for row in reader:\n",
        "        companies_info.append({\n",
        "            'website': row['website'],\n",
        "            'email': row['email']\n",
        "        })\n",
        "    return companies_info\n",
        "\n",
        "def generate_email(website, product_info):\n",
        "    chatbot = ChatBot.webpage_chat(url=website)\n",
        "    user_question = f\"Write an email to the company to sell our new product more convincingly. Here are the details about our product: {product_info}\"\n",
        "    response = chatbot.chat(user_question)\n",
        "    return response.response\n",
        "\n",
        "def generate_reply(website, reply):\n",
        "    chatbot = ChatBot.webpage_chat(url=website)\n",
        "    user_question = f\"Write an email reply to the company to whom you already sent an email to sell our new product to clarify and all the queries more convincingly. Here are the details of the reply: {reply}\"\n",
        "    response = chatbot.chat(user_question)\n",
        "    return response.response\n",
        "\n",
        "def send_email(sender_email, smtp_config, receiver_email, subject, content):\n",
        "    msg = MIMEMultipart()\n",
        "    msg['From'] = sender_email\n",
        "    msg['To'] = receiver_email\n",
        "    msg['Subject'] = subject\n",
        "    msg.attach(MIMEText(content, 'plain'))\n",
        "\n",
        "    try:\n",
        "        server = smtplib.SMTP(smtp_config['smtp_server'], smtp_config['smtp_port'])\n",
        "        server.starttls()\n",
        "        server.login(sender_email, smtp_config['smtp_password'])\n",
        "        server.sendmail(sender_email, receiver_email, msg.as_string())\n",
        "        server.quit()\n",
        "        st.write(f\"Successfully sent email to {receiver_email}\")\n",
        "    except Exception as e:\n",
        "        st.write(f\"Failed to send email to {receiver_email}: {e}\")\n",
        "\n",
        "def decode_payload(payload):\n",
        "    try:\n",
        "        return payload.decode('utf-8')\n",
        "    except UnicodeDecodeError:\n",
        "        try:\n",
        "            return payload.decode('iso-8859-1')\n",
        "        except UnicodeDecodeError:\n",
        "            return payload.decode('utf-8', errors='replace')\n",
        "\n",
        "def check_for_replies(imap_server, email_user, email_pass, specific_email):\n",
        "    mail = imaplib.IMAP4_SSL(imap_server)\n",
        "    mail.login(email_user, email_pass)\n",
        "    mail.select('inbox')\n",
        "\n",
        "    result, data = mail.search(None, '(UNSEEN)')\n",
        "    mail_ids = data[0].split()\n",
        "\n",
        "    replies = []\n",
        "    for mail_id in mail_ids:\n",
        "        result, data = mail.fetch(mail_id, '(RFC822)')\n",
        "        raw_email = data[0][1]\n",
        "        msg = email.message_from_bytes(raw_email)\n",
        "\n",
        "        from_address = email.utils.parseaddr(msg['From'])[1]\n",
        "        if from_address.lower() == specific_email.lower():\n",
        "            if msg.is_multipart():\n",
        "                for part in msg.walk():\n",
        "                    if part.get_content_type() == \"text/plain\":\n",
        "                        payload = part.get_payload(decode=True)\n",
        "                        if payload:\n",
        "                            message_text = decode_payload(payload)\n",
        "                            replies.append(message_text)\n",
        "            else:\n",
        "                payload = msg.get_payload(decode=True)\n",
        "                if payload:\n",
        "                    message_text = decode_payload(payload)\n",
        "                    replies.append(message_text)\n",
        "                else:\n",
        "                    st.write(\"Warning: Email has no payload to decode.\")\n",
        "\n",
        "    mail.close()\n",
        "    mail.logout()\n",
        "    return replies\n",
        "\n",
        "def monitor_process(companies_info, smtp_config, sender_email, product_info, subject):\n",
        "    ending_phrases = [\"subscribe\", \"thank you\", \"interested\", \"I'm in\", \"sign me up\"]\n",
        "\n",
        "    for company in companies_info:\n",
        "        email_content = generate_email(company['website'], product_info)\n",
        "        send_email(sender_email, smtp_config, company['email'], subject, email_content)\n",
        "\n",
        "    while True:\n",
        "        for company in companies_info:\n",
        "            replies = check_for_replies(smtp_config['imap_server'], sender_email, smtp_config['smtp_password'], company['email'])\n",
        "            if replies:\n",
        "                for reply in replies:\n",
        "                    st.write(f\"Reply from {company['email']}: {reply}\")\n",
        "                    reply_content = generate_reply(company['website'], reply)\n",
        "                    send_email(sender_email, smtp_config, company['email'], f\"RE: {subject}\", reply_content)\n",
        "            else:\n",
        "                st.write(\"No replies found.\")\n",
        "        time.sleep(30)\n",
        "\n",
        "st.title(\"Sales Development Representative Automation\")\n",
        "\n",
        "st.sidebar.header(\"Configuration\")\n",
        "openai_api_key = st.sidebar.text_input(\"OpenAI API Key\")\n",
        "sender_email = st.sidebar.text_input(\"Sender Email\")\n",
        "sender_password = st.sidebar.text_input(\"Sender Password\", type=\"password\")\n",
        "product_info = st.sidebar.text_area(\"Product Information\")\n",
        "subject = st.sidebar.text_input(\"Email Subject\")\n",
        "csv_file = st.sidebar.file_uploader(\"Upload CSV\", type=[\"csv\"])\n",
        "\n",
        "if st.sidebar.button(\"Run\"):\n",
        "    if openai_api_key and sender_email and sender_password and product_info and subject and csv_file:\n",
        "        os.environ['OPENAI_API_KEY'] = openai_api_key\n",
        "\n",
        "        smtp_config = {\n",
        "            'smtp_server': 'smtp.gmail.com',\n",
        "            'smtp_port': 587,\n",
        "            'smtp_username': sender_email,\n",
        "            'smtp_password': sender_password,\n",
        "            'imap_server': 'imap.gmail.com'\n",
        "        }\n",
        "\n",
        "        companies_info = extract_info_from_csv(csv_file)\n",
        "        monitor_process(companies_info, smtp_config, sender_email, product_info, subject)\n",
        "    else:\n",
        "        st.error(\"Please fill in all fields.\")"
      ],
      "metadata": {
        "id": "BFHVdjCYmxKH",
        "colab": {
          "base_uri": "https://localhost:8080/"
        },
        "outputId": "95d3adbd-fcdc-40af-a1c7-c1b6e8c08dd1"
      },
      "execution_count": 23,
      "outputs": [
        {
          "output_type": "stream",
          "name": "stdout",
          "text": [
            "/bin/bash: line 1: fg: no job control\n"
          ]
        }
      ]
    },
    {
      "cell_type": "code",
      "source": [
        "!npm install localtunnel"
      ],
      "metadata": {
        "id": "ySaC-4NDnQ6E",
        "colab": {
          "base_uri": "https://localhost:8080/"
        },
        "outputId": "af48d383-6c57-4735-b98f-189ada85d30d"
      },
      "execution_count": 24,
      "outputs": [
        {
          "output_type": "stream",
          "name": "stdout",
          "text": [
            "\u001b[K\u001b[?25h\u001b[37;40mnpm\u001b[0m \u001b[0m\u001b[30;43mWARN\u001b[0m \u001b[0m\u001b[35msaveError\u001b[0m ENOENT: no such file or directory, open '/content/package.json'\n",
            "\u001b[0m\u001b[37;40mnpm\u001b[0m \u001b[0m\u001b[30;43mWARN\u001b[0m \u001b[0m\u001b[35menoent\u001b[0m ENOENT: no such file or directory, open '/content/package.json'\n",
            "\u001b[0m\u001b[37;40mnpm\u001b[0m \u001b[0m\u001b[30;43mWARN\u001b[0m\u001b[35m\u001b[0m content No description\n",
            "\u001b[0m\u001b[37;40mnpm\u001b[0m \u001b[0m\u001b[30;43mWARN\u001b[0m\u001b[35m\u001b[0m content No repository field.\n",
            "\u001b[0m\u001b[37;40mnpm\u001b[0m \u001b[0m\u001b[30;43mWARN\u001b[0m\u001b[35m\u001b[0m content No README data\n",
            "\u001b[0m\u001b[37;40mnpm\u001b[0m \u001b[0m\u001b[30;43mWARN\u001b[0m\u001b[35m\u001b[0m content No license field.\n",
            "\u001b[0m\n",
            "+ localtunnel@2.0.2\n",
            "updated 1 package and audited 36 packages in 0.645s\n",
            "\n",
            "3 packages are looking for funding\n",
            "  run `npm fund` for details\n",
            "\n",
            "found 2 \u001b[93mmoderate\u001b[0m severity vulnerabilities\n",
            "  run `npm audit fix` to fix them, or `npm audit` for details\n",
            "\u001b[K\u001b[?25h"
          ]
        }
      ]
    },
    {
      "cell_type": "code",
      "source": [
        "!streamlit run sdrapp.py"
      ],
      "metadata": {
        "id": "BhJJeNZRn0GF",
        "colab": {
          "base_uri": "https://localhost:8080/"
        },
        "outputId": "b3d8f29b-4d25-4e74-bae9-f043ed8c89db"
      },
      "execution_count": 25,
      "outputs": [
        {
          "output_type": "stream",
          "name": "stdout",
          "text": [
            "Usage: streamlit run [OPTIONS] TARGET [ARGS]...\n",
            "Try 'streamlit run --help' for help.\n",
            "\n",
            "Error: Invalid value: File does not exist: sdrapp.py\n"
          ]
        }
      ]
    },
    {
      "cell_type": "code",
      "source": [
        "import urllib\n",
        "print(\"Password/Enpoint IP for localtunnel is:\",urllib.request.urlopen('https://ipv4.icanhazip.com').read().decode('utf8').strip(\"\\n\"))"
      ],
      "metadata": {
        "id": "fqvpXBxRn3r9",
        "colab": {
          "base_uri": "https://localhost:8080/"
        },
        "outputId": "7167354d-5151-4dbf-e58d-817243d148a0"
      },
      "execution_count": 26,
      "outputs": [
        {
          "output_type": "stream",
          "name": "stdout",
          "text": [
            "Password/Enpoint IP for localtunnel is: 35.230.190.242\n"
          ]
        }
      ]
    },
    {
      "cell_type": "code",
      "source": [
        "!npx localtunnel --port 8505"
      ],
      "metadata": {
        "id": "DPD8h-D6oA5w",
        "outputId": "4e2f2341-f283-4bac-f234-304177fc6f63",
        "colab": {
          "base_uri": "https://localhost:8080/"
        }
      },
      "execution_count": null,
      "outputs": [
        {
          "output_type": "stream",
          "name": "stdout",
          "text": [
            "\u001b[K\u001b[?25hnpx: installed 22 in 3.462s\n",
            "your url is: https://six-heads-relate.loca.lt\n"
          ]
        }
      ]
    }
  ],
  "metadata": {
    "colab": {
      "provenance": [],
      "include_colab_link": true
    },
    "kernelspec": {
      "display_name": "Python 3",
      "name": "python3"
    }
  },
  "nbformat": 4,
  "nbformat_minor": 0
}